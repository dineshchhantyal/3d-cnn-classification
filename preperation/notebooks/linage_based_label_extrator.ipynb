{
 "cells": [
  {
   "cell_type": "code",
   "execution_count": 1,
   "id": "2fc7ed1c",
   "metadata": {},
   "outputs": [
    {
     "name": "stderr",
     "output_type": "stream",
     "text": [
      "/mnt/sw/nix/store/71ksmx7k6xy3v9ksfkv5mp5kxxp64pd6-python-3.10.13-view/lib/python3.10/site-packages/numpy/core/getlimits.py:549: UserWarning: The value of the smallest subnormal for <class 'numpy.float64'> type is zero.\n",
      "  setattr(self, word, getattr(machar, word).flat[0])\n",
      "/mnt/sw/nix/store/71ksmx7k6xy3v9ksfkv5mp5kxxp64pd6-python-3.10.13-view/lib/python3.10/site-packages/numpy/core/getlimits.py:89: UserWarning: The value of the smallest subnormal for <class 'numpy.float64'> type is zero.\n",
      "  return self._float_to_str(self.smallest_subnormal)\n",
      "/mnt/sw/nix/store/71ksmx7k6xy3v9ksfkv5mp5kxxp64pd6-python-3.10.13-view/lib/python3.10/site-packages/numpy/core/getlimits.py:549: UserWarning: The value of the smallest subnormal for <class 'numpy.float32'> type is zero.\n",
      "  setattr(self, word, getattr(machar, word).flat[0])\n",
      "/mnt/sw/nix/store/71ksmx7k6xy3v9ksfkv5mp5kxxp64pd6-python-3.10.13-view/lib/python3.10/site-packages/numpy/core/getlimits.py:89: UserWarning: The value of the smallest subnormal for <class 'numpy.float32'> type is zero.\n",
      "  return self._float_to_str(self.smallest_subnormal)\n"
     ]
    }
   ],
   "source": [
    "import sys\n",
    "import os\n",
    "from pathlib import Path\n",
    "\n",
    "# Add the python directory to the path\n",
    "python_dir = os.path.join(os.path.dirname(os.getcwd()), 'python')\n",
    "if python_dir not in sys.path:\n",
    "    sys.path.append(python_dir)\n",
    "\n",
    "from nucleus_extractor_manager import (\n",
    "    NucleusExtractorManager,\n",
    "    NucleusExtractorConfig,\n",
    ")\n",
    "\n",
    "from lineage_tree import read_json_file"
   ]
  },
  {
   "cell_type": "code",
   "execution_count": 2,
   "id": "d8b02ca1",
   "metadata": {},
   "outputs": [],
   "source": [
    "# Available datasets\n",
    "datasets = {\n",
    "    \"230212_stack6\": \"/mnt/ceph/users/lbrown/MouseData/Rebecca/230212_stack6/\",\n",
    "    \"220321_stack11\": \"/mnt/ceph/users/lbrown/MouseData/Eszter1\",\n",
    "    \"221016_FUCCI_Nanog_stack_3\": \"/mnt/ceph/users/lbrown/Labels3DMouse/Abhishek/RebeccaData/221016_FUCCI_Nanog_stack_3/\",\n",
    "}\n",
    "\n",
    "# Configuration\n",
    "config = NucleusExtractorConfig()\n",
    "config.time_window = 1"
   ]
  },
  {
   "cell_type": "code",
   "execution_count": 3,
   "id": "5d448e11",
   "metadata": {},
   "outputs": [],
   "source": [
    "forest = read_json_file(Path(datasets[\"230212_stack6\"]) / \"LineageGraph.json\")"
   ]
  },
  {
   "cell_type": "code",
   "execution_count": 4,
   "id": "9ab7e3cb",
   "metadata": {},
   "outputs": [
    {
     "ename": "ModuleNotFoundError",
     "evalue": "No module named 'nucleus_lineage_to_classification'",
     "output_type": "error",
     "traceback": [
      "\u001b[0;31m---------------------------------------------------------------------------\u001b[0m",
      "\u001b[0;31mModuleNotFoundError\u001b[0m                       Traceback (most recent call last)",
      "Cell \u001b[0;32mIn[4], line 2\u001b[0m\n\u001b[1;32m      1\u001b[0m \u001b[38;5;66;03m# Test the improved nucleus extraction with V2 pipeline file saving\u001b[39;00m\n\u001b[0;32m----> 2\u001b[0m \u001b[38;5;28;01mfrom\u001b[39;00m \u001b[38;5;21;01mnucleus_lineage_to_classification\u001b[39;00m \u001b[38;5;28;01mimport\u001b[39;00m nucleus_extractor\n\u001b[1;32m      4\u001b[0m \u001b[38;5;28mprint\u001b[39m(\u001b[38;5;124m\"\u001b[39m\u001b[38;5;124m🚀 Testing improved sliding window nucleus extraction with V2 file saving\u001b[39m\u001b[38;5;124m\"\u001b[39m)\n\u001b[1;32m      5\u001b[0m \u001b[38;5;28mprint\u001b[39m(\u001b[38;5;124m\"\u001b[39m\u001b[38;5;124m=\u001b[39m\u001b[38;5;124m\"\u001b[39m \u001b[38;5;241m*\u001b[39m \u001b[38;5;241m60\u001b[39m)\n",
      "\u001b[0;31mModuleNotFoundError\u001b[0m: No module named 'nucleus_lineage_to_classification'"
     ]
    }
   ],
   "source": [
    "# Test the improved nucleus extraction with V2 pipeline file saving\n",
    "from nucleus_lineage_to_classification import nucleus_extractor\n",
    "\n",
    "print(\"🚀 Testing improved sliding window nucleus extraction with V2 file saving\")\n",
    "print(\"=\" * 60)\n",
    "\n",
    "# Extract nuclei using the improved sliding window approach\n",
    "# This will process all classifications and save files following V2 pipeline convention\n",
    "results = nucleus_extractor(\n",
    "    forest=forest,\n",
    "    timeframe=1,  # Extract t-1, t, t+1 (3-frame time series)\n",
    "    base_dir=datasets[\"230212_stack6\"],\n",
    "    output_dir=Path(\"/mnt/home/dchhantyal/3d-cnn-classification/data/nuclei_state_dataset\") / \"v2\",\n",
    "    max_samples= 200  # Limit to 200 samples per classification for testing\n",
    ")\n",
    "\n",
    "print(f\"\\n🎯 EXTRACTION RESULTS SUMMARY:\")\n",
    "total_extractions = sum(len(class_results) for class_results in results.values())\n",
    "print(f\"   Total successful extractions: {total_extractions}\")\n",
    "\n",
    "for classification, class_results in results.items():\n",
    "    print(f\"\\n   {classification.upper()}: {len(class_results)} extractions\")\n",
    "    if class_results:\n",
    "        # Show details of first extraction\n",
    "        first_result = class_results[0]\n",
    "        roi_shape = first_result['summary']['roi_shape']\n",
    "        frames_extracted = first_result['summary']['frames_extracted']\n",
    "        total_frames = first_result['summary']['total_frames']\n",
    "        all_frames_present = first_result['summary']['all_frames_present']\n",
    "        \n",
    "        print(f\"     Example - Nucleus {first_result['nucleus_id']} | Shape: {roi_shape}\")\n",
    "        print(f\"     Frames: {frames_extracted}/{total_frames} | Complete: {all_frames_present}\")\n",
    "        \n",
    "        # Show event frame volume if available\n",
    "        event_volume = first_result['summary']['event_frame_volume_size']\n",
    "        if event_volume > 0:\n",
    "            print(f\"     Event frame volume: {event_volume} pixels\")\n",
    "            \n",
    "        # Verify data consistency\n",
    "        time_series = first_result['time_series']\n",
    "        print(f\"     Frame labels: {list(time_series.keys())}\")\n"
   ]
  },
  {
   "cell_type": "code",
   "execution_count": null,
   "id": "e9ab0960",
   "metadata": {},
   "outputs": [],
   "source": []
  }
 ],
 "metadata": {
  "kernelspec": {
   "display_name": "jupyter-gpu",
   "language": "python",
   "name": "jupyter-gpu"
  },
  "language_info": {
   "codemirror_mode": {
    "name": "ipython",
    "version": 3
   },
   "file_extension": ".py",
   "mimetype": "text/x-python",
   "name": "python",
   "nbconvert_exporter": "python",
   "pygments_lexer": "ipython3",
   "version": "3.10.13"
  }
 },
 "nbformat": 4,
 "nbformat_minor": 5
}
