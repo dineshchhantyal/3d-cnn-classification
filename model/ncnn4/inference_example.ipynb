{
 "cells": [
  {
   "cell_type": "markdown",
   "id": "ca8ba5ac",
   "metadata": {},
   "source": [
    "# 3D CNN Nucleus State Inference Example\n",
    "This notebook demonstrates how to run inference using the `predict.py` script from the ncnn4 model. The script supports batch prediction, single sample prediction, and full volume prediction with optional nuclei selection.\n"
   ]
  },
  {
   "cell_type": "code",
   "execution_count": null,
   "id": "bb1bbddb",
   "metadata": {},
   "outputs": [],
   "source": [
    "import numpy as np\n",
    "from predict import load_model, process_single_sample_by_np_volumes\n",
    "\n",
    "# Load your numpy arrays (replace with your own loading logic)\n",
    "vol_dict = {\n",
    "    't-1': np.load('t_minus_1.npy'),\n",
    "    't': np.load('t.npy'),\n",
    "    't+1': np.load('t_plus_1.npy'),\n",
    "    'mask': np.load('mask.npy'),\n",
    "}\n",
    "model = load_model('training_outputs/best_model.pth')\n",
    "model.eval()\n",
    "import argparse\n",
    "args = argparse.Namespace(output_dir='./analysis_output', save_analysis=False, verbose=True)\n",
    "result = process_single_sample_by_np_volumes(vol_dict, model, args)\n",
    "print(result)"
   ]
  },
  {
   "cell_type": "code",
   "execution_count": null,
   "id": "5951db9c",
   "metadata": {},
   "outputs": [],
   "source": [
    "import numpy as np\n",
    "from predict import load_model, handle_batch_folder_prediction\n",
    "\n",
    "# Load the model\n",
    "model = load_model('training_outputs/best_model.pth')\n",
    "model.eval()\n",
    "# List all the directory paths for batch prediction (this is the output of the preperation setps)\n",
    "\n",
    "batch_dirs = [\n",
    "    '/data/nuclei_state_dataset/v3/new_daughter/230212_stack6_frame_025_nucleus_011_count_15',\n",
    "    '/mnt/home/dchhantyal/3d-cnn-classification/data/nuclei_state_dataset/v3/mitotic/230212_stack6_frame_027_nucleus_014_count_16',\n",
    "]\n",
    "\n",
    "import argparse\n",
    "\n",
    "args = argparse.Namespace(\n",
    "    folder_path=batch_dirs,\n",
    "    save_analysis=False,\n",
    "    verbose=True\n",
    ")\n",
    "results = handle_batch_folder_prediction(model, args)\n",
    "print(\"Batch prediction results:\", results)"
   ]
  },
  {
   "cell_type": "code",
   "execution_count": null,
   "id": "ec928275",
   "metadata": {},
   "outputs": [
    {
     "name": "stdout",
     "output_type": "stream",
     "text": [
      "Prediction results: [{'sample': 'sample_20250731_110036', 'true_class': None, 'predicted_class': 'stable', 'index': 2, 'confidence': 1.0, 'correct': None, 'processing_time': 2.589352}, {'sample': 'sample_20250731_110039', 'true_class': None, 'predicted_class': 'stable', 'index': 2, 'confidence': 0.9992713332176208, 'correct': None, 'processing_time': 3.199789}, {'sample': 'sample_20250731_110042', 'true_class': None, 'predicted_class': 'stable', 'index': 2, 'confidence': 0.8772227168083191, 'correct': None, 'processing_time': 5.10013}, {'sample': 'sample_20250731_110047', 'true_class': None, 'predicted_class': 'stable', 'index': 2, 'confidence': 0.9581482410430908, 'correct': None, 'processing_time': 4.30028}, {'sample': 'sample_20250731_110052', 'true_class': None, 'predicted_class': 'stable', 'index': 2, 'confidence': 0.8139852285385132, 'correct': None, 'processing_time': 1.801851}, {'sample': 'sample_20250731_110053', 'true_class': None, 'predicted_class': 'stable', 'index': 2, 'confidence': 0.9373087882995605, 'correct': None, 'processing_time': 3.396724}, {'sample': 'sample_20250731_110057', 'true_class': None, 'predicted_class': 'stable', 'index': 2, 'confidence': 0.8994752764701843, 'correct': None, 'processing_time': 5.200375}, {'sample': 'sample_20250731_110102', 'true_class': None, 'predicted_class': 'stable', 'index': 2, 'confidence': 0.7253410220146179, 'correct': None, 'processing_time': 3.800123}, {'sample': 'sample_20250731_110106', 'true_class': None, 'predicted_class': 'stable', 'index': 2, 'confidence': 0.9200023412704468, 'correct': None, 'processing_time': 4.201438}, {'sample': 'sample_20250731_110110', 'true_class': None, 'predicted_class': 'stable', 'index': 2, 'confidence': 0.8026124238967896, 'correct': None, 'processing_time': 3.69904}, {'sample': 'sample_20250731_110114', 'true_class': None, 'predicted_class': 'stable', 'index': 2, 'confidence': 0.8283777832984924, 'correct': None, 'processing_time': 3.998651}, {'sample': 'sample_20250731_110118', 'true_class': None, 'predicted_class': 'stable', 'index': 2, 'confidence': 0.5081598162651062, 'correct': None, 'processing_time': 4.600097}, {'sample': 'sample_20250731_110122', 'true_class': None, 'predicted_class': 'stable', 'index': 2, 'confidence': 0.8546239733695984, 'correct': None, 'processing_time': 5.299659}, {'sample': 'sample_20250731_110128', 'true_class': None, 'predicted_class': 'stable', 'index': 2, 'confidence': 0.9260603189468384, 'correct': None, 'processing_time': 5.200679}, {'sample': 'sample_20250731_110133', 'true_class': None, 'predicted_class': 'stable', 'index': 2, 'confidence': 0.9573751091957092, 'correct': None, 'processing_time': 5.100158}, {'sample': 'sample_20250731_110138', 'true_class': None, 'predicted_class': 'stable', 'index': 2, 'confidence': 0.7723757028579712, 'correct': None, 'processing_time': 4.399384}, {'sample': 'sample_20250731_110142', 'true_class': None, 'predicted_class': 'stable', 'index': 2, 'confidence': 0.8392189741134644, 'correct': None, 'processing_time': 3.600407}, {'sample': 'sample_20250731_110146', 'true_class': None, 'predicted_class': 'stable', 'index': 2, 'confidence': 0.8334499001502991, 'correct': None, 'processing_time': 0.902458}]\n"
     ]
    }
   ],
   "source": [
    "# Example: Programmatic inference using predict.py functions\n",
    "from predict import (\n",
    "    load_model,\n",
    "    handle_full_timestamp_prediction,\n",
    ")\n",
    "import argparse\n",
    "\n",
    "# Set up model path and volume paths\n",
    "model_path = '/mnt/home/dchhantyal/3d-cnn-classification/model/ncnn4/training_outputs/no-aug/best_model.pth'\n",
    "volume_paths = [\n",
    "    '/mnt/home/dchhantyal/3d-cnn-classification/raw-data/230212_stack6/registered_images/nuclei_reg8_29.tif',\n",
    "    '/mnt/home/dchhantyal/3d-cnn-classification/raw-data/230212_stack6/registered_images/nuclei_reg8_30.tif',\n",
    "    '/mnt/home/dchhantyal/3d-cnn-classification/raw-data/230212_stack6/registered_images/nuclei_reg8_31.tif',\n",
    "    '/mnt/home/dchhantyal/3d-cnn-classification/raw-data/230212_stack6/registered_label_images/label_reg8_30.tif',\n",
    "]\n",
    "\n",
    "# Load the trained model\n",
    "model = load_model(model_path, verbose=False)\n",
    "model.eval()\n",
    "\n",
    "\n",
    "# Example: Predict specific nuclei by IDs\n",
    "nuclei_ids = [16, 17]  \n",
    "\n",
    "# To run full prediction and get results, you would need to construct an argparse.Namespace or refactor the script for direct function calls.\n",
    "\n",
    "results = handle_full_timestamp_prediction(\n",
    "    model=model,\n",
    "    args=argparse.Namespace(\n",
    "        model_path=model_path,\n",
    "        volumes=volume_paths,\n",
    "        full_timestamp=True,\n",
    "        nuclei_ids=None,\n",
    "    ),\n",
    ")\n",
    "print(\"Prediction results:\", results)"
   ]
  },
  {
   "cell_type": "code",
   "execution_count": null,
   "id": "ff1f9259",
   "metadata": {},
   "outputs": [],
   "source": [
    "import numpy as np\n",
    "from predict import load_model, handle_single_volume_prediction\n",
    "\n",
    "# Load the model\n",
    "model = load_model('training_outputs/best_model.pth')\n",
    "model.eval()\n",
    "# List volume of cropped t-1, t, t+1, and mask, note: ONLY .tif is accepted\n",
    "volumes = [\n",
    "    '/mnt/home/dchhantyal/3d-cnn-classification/data/nuclei_state_dataset/v3/mitotic/230212_stack6_frame_027_nucleus_014_count_16/t-1/raw_cropped.tif',\n",
    "    '/mnt/home/dchhantyal/3d-cnn-classification/data/nuclei_state_dataset/v3/mitotic/230212_stack6_frame_027_nucleus_014_count_16/t/raw_cropped.tif',\n",
    "    '/mnt/home/dchhantyal/3d-cnn-classification/data/nuclei_state_dataset/v3/mitotic/230212_stack6_frame_027_nucleus_014_count_16/t+1/raw_cropped.tif',\n",
    "    '/mnt/home/dchhantyal/3d-cnn-classification/data/nuclei_state_dataset/v3/mitotic/230212_stack6_frame_027_nucleus_014_count_16/t/binary_label_cropped.tif'\n",
    "]\n",
    "\n",
    "import argparse\n",
    "\n",
    "args = argparse.Namespace(\n",
    "    volumes=volumes,\n",
    "    full_timestamp=False,\n",
    "    nuclei_ids=None,  # Specify nuclei IDs if needed\n",
    "    save_analysis=False,\n",
    "    verbose=True\n",
    ")\n",
    "\n",
    "results = handle_single_volume_prediction(model, args)\n",
    "print(\"Single volume prediction results:\", results)\n"
   ]
  },
  {
   "cell_type": "code",
   "execution_count": 1,
   "id": "5ad8e9b0",
   "metadata": {},
   "outputs": [
    {
     "name": "stdout",
     "output_type": "stream",
     "text": [
      "\n",
      "==================================================\n",
      "🎉 BATCH PROCESSING COMPLETE\n",
      "==================================================\n",
      " 1. sample_20250730_111342              | True: UNKNOWN      → Pred: STABLE       (83.9%) ❓\n",
      " 2. sample_20250730_111342              | True: UNKNOWN      → Pred: STABLE       (83.3%) ❓\n",
      "\n",
      "==================================================\n",
      "📊 ACCURACY SUMMARY\n",
      "==================================================\n",
      "Total samples processed successfully: 2\n"
     ]
    }
   ],
   "source": [
    "\n",
    "# Example: Predict specific nuclei by IDs (e.g., 16, 17) in the same volume\n",
    "!srun python predict.py --model_path /mnt/home/dchhantyal/3d-cnn-classification/model/ncnn4/training_outputs/no-aug/best_model.pth --volumes /mnt/home/dchhantyal/3d-cnn-classification/raw-data/230212_stack6/registered_images/nuclei_reg8_29.tif /mnt/home/dchhantyal/3d-cnn-classification/raw-data/230212_stack6/registered_images/nuclei_reg8_30.tif /mnt/home/dchhantyal/3d-cnn-classification/raw-data/230212_stack6/registered_images/nuclei_reg8_31.tif /mnt/home/dchhantyal/3d-cnn-classification/raw-data/230212_stack6/registered_label_images/label_reg8_30.tif --full_timestamp --nuclei_ids \"16,17\""
   ]
  },
  {
   "cell_type": "code",
   "execution_count": null,
   "id": "a280681e",
   "metadata": {},
   "outputs": [
    {
     "name": "stdout",
     "output_type": "stream",
     "text": [
      "\n",
      "==================================================\n",
      "🎉 BATCH PROCESSING COMPLETE\n",
      "==================================================\n",
      " 1. sample_20250730_111700              | True: UNKNOWN      → Pred: STABLE       (100.0%) ❓\n",
      " 2. sample_20250730_111700              | True: UNKNOWN      → Pred: STABLE       (99.9%) ❓\n",
      " 3. sample_20250730_111700              | True: UNKNOWN      → Pred: STABLE       (87.7%) ❓\n",
      " 4. sample_20250730_111700              | True: UNKNOWN      → Pred: STABLE       (95.8%) ❓\n",
      " 5. sample_20250730_111700              | True: UNKNOWN      → Pred: STABLE       (81.4%) ❓\n",
      " 6. sample_20250730_111700              | True: UNKNOWN      → Pred: STABLE       (93.7%) ❓\n",
      " 7. sample_20250730_111700              | True: UNKNOWN      → Pred: STABLE       (89.9%) ❓\n",
      " 8. sample_20250730_111700              | True: UNKNOWN      → Pred: STABLE       (72.5%) ❓\n",
      " 9. sample_20250730_111700              | True: UNKNOWN      → Pred: STABLE       (92.0%) ❓\n",
      "10. sample_20250730_111700              | True: UNKNOWN      → Pred: STABLE       (80.3%) ❓\n",
      "11. sample_20250730_111700              | True: UNKNOWN      → Pred: STABLE       (82.8%) ❓\n",
      "12. sample_20250730_111700              | True: UNKNOWN      → Pred: STABLE       (50.8%) ❓\n",
      "13. sample_20250730_111700              | True: UNKNOWN      → Pred: STABLE       (85.5%) ❓\n",
      "14. sample_20250730_111700              | True: UNKNOWN      → Pred: STABLE       (92.6%) ❓\n",
      "15. sample_20250730_111700              | True: UNKNOWN      → Pred: STABLE       (95.7%) ❓\n",
      "16. sample_20250730_111700              | True: UNKNOWN      → Pred: STABLE       (77.2%) ❓\n",
      "17. sample_20250730_111700              | True: UNKNOWN      → Pred: STABLE       (83.9%) ❓\n",
      "18. sample_20250730_111700              | True: UNKNOWN      → Pred: STABLE       (83.3%) ❓\n",
      "\n",
      "==================================================\n",
      "📊 ACCURACY SUMMARY\n",
      "==================================================\n",
      "Total samples processed successfully: 18\n"
     ]
    }
   ],
   "source": [
    "!srun python predict.py --model_path /mnt/home/dchhantyal/3d-cnn-classification/model/ncnn4/training_outputs/no-aug/best_model.pth --volumes /mnt/home/dchhantyal/3d-cnn-classification/raw-data/230212_stack6/registered_images/nuclei_reg8_29.tif /mnt/home/dchhantyal/3d-cnn-classification/raw-data/230212_stack6/registered_images/nuclei_reg8_30.tif /mnt/home/dchhantyal/3d-cnn-classification/raw-data/230212_stack6/registered_images/nuclei_reg8_31.tif /mnt/home/dchhantyal/3d-cnn-classification/raw-data/230212_stack6/registered_label_images/label_reg8_30.tif --full_timestamp "
   ]
  },
  {
   "cell_type": "code",
   "execution_count": null,
   "id": "6d1c8d6c",
   "metadata": {},
   "outputs": [],
   "source": []
  }
 ],
 "metadata": {
  "kernelspec": {
   "display_name": "jupyter-gpu (3.10.13)",
   "language": "python",
   "name": "python3"
  },
  "language_info": {
   "codemirror_mode": {
    "name": "ipython",
    "version": 3
   },
   "file_extension": ".py",
   "mimetype": "text/x-python",
   "name": "python",
   "nbconvert_exporter": "python",
   "pygments_lexer": "ipython3",
   "version": "3.10.13"
  }
 },
 "nbformat": 4,
 "nbformat_minor": 5
}
