{
 "cells": [
  {
   "cell_type": "markdown",
   "id": "ca8ba5ac",
   "metadata": {},
   "source": [
    "# 3D CNN Nucleus State Inference Example\n",
    "This notebook demonstrates how to run inference using the `predict.py` script from the ncnn4 model. The script supports batch prediction, single sample prediction, and full volume prediction with optional nuclei selection.\n",
    "\n",
    "**Note:** Inference is performed via command-line, not directly in the notebook. The following code cell shows how to run prediction for a full timestamp volume and for specific nuclei IDs, as described in the documentation."
   ]
  },
  {
   "cell_type": "code",
   "execution_count": 6,
   "id": "d7faaf91",
   "metadata": {},
   "outputs": [
    {
     "name": "stdout",
     "output_type": "stream",
     "text": [
      "\n",
      "==================================================\n",
      "🎉 BATCH PROCESSING COMPLETE\n",
      "==================================================\n",
      " 1. sample_20250729_184057              | True: UNKNOWN      → Pred: STABLE       (100.0%) ❓\n",
      " 2. sample_20250729_184057              | True: UNKNOWN      → Pred: STABLE       (99.9%) ❓\n",
      " 3. sample_20250729_184057              | True: UNKNOWN      → Pred: STABLE       (87.7%) ❓\n",
      " 4. sample_20250729_184057              | True: UNKNOWN      → Pred: STABLE       (95.8%) ❓\n",
      " 5. sample_20250729_184057              | True: UNKNOWN      → Pred: STABLE       (81.4%) ❓\n",
      " 6. sample_20250729_184057              | True: UNKNOWN      → Pred: STABLE       (93.7%) ❓\n",
      " 7. sample_20250729_184057              | True: UNKNOWN      → Pred: STABLE       (89.9%) ❓\n",
      " 8. sample_20250729_184057              | True: UNKNOWN      → Pred: STABLE       (72.5%) ❓\n",
      " 9. sample_20250729_184057              | True: UNKNOWN      → Pred: STABLE       (92.0%) ❓\n",
      "10. sample_20250729_184057              | True: UNKNOWN      → Pred: STABLE       (80.3%) ❓\n",
      "11. sample_20250729_184057              | True: UNKNOWN      → Pred: STABLE       (82.8%) ❓\n",
      "12. sample_20250729_184057              | True: UNKNOWN      → Pred: STABLE       (50.8%) ❓\n",
      "13. sample_20250729_184057              | True: UNKNOWN      → Pred: STABLE       (85.5%) ❓\n",
      "14. sample_20250729_184057              | True: UNKNOWN      → Pred: STABLE       (92.6%) ❓\n",
      "15. sample_20250729_184057              | True: UNKNOWN      → Pred: STABLE       (95.7%) ❓\n",
      "16. sample_20250729_184057              | True: UNKNOWN      → Pred: STABLE       (77.2%) ❓\n",
      "17. sample_20250729_184057              | True: UNKNOWN      → Pred: STABLE       (83.9%) ❓\n",
      "18. sample_20250729_184057              | True: UNKNOWN      → Pred: STABLE       (83.3%) ❓\n",
      "\n",
      "==================================================\n",
      "📊 ACCURACY SUMMARY\n",
      "==================================================\n",
      "Total samples processed successfully: 18\n"
     ]
    }
   ],
   "source": [
    "# Example: Predict all nuclei in a full timestamp volume\n",
    "!srun python predict.py --model_path /mnt/home/dchhantyal/3d-cnn-classification/model/ncnn4/training_outputs/no-aug/best_model.pth --volumes /mnt/home/dchhantyal/3d-cnn-classification/raw-data/230212_stack6/registered_images/nuclei_reg8_29.tif /mnt/home/dchhantyal/3d-cnn-classification/raw-data/230212_stack6/registered_images/nuclei_reg8_30.tif /mnt/home/dchhantyal/3d-cnn-classification/raw-data/230212_stack6/registered_images/nuclei_reg8_31.tif /mnt/home/dchhantyal/3d-cnn-classification/raw-data/230212_stack6/registered_label_images/label_reg8_30.tif --full_timestamp\n"
   ]
  },
  {
   "cell_type": "code",
   "execution_count": 7,
   "id": "7da0faff",
   "metadata": {},
   "outputs": [
    {
     "name": "stdout",
     "output_type": "stream",
     "text": [
      "\n",
      "==================================================\n",
      "🎉 BATCH PROCESSING COMPLETE\n",
      "==================================================\n",
      " 1. sample_20250729_184106              | True: UNKNOWN      → Pred: STABLE       (83.9%) ❓\n",
      " 2. sample_20250729_184106              | True: UNKNOWN      → Pred: STABLE       (83.3%) ❓\n",
      "\n",
      "==================================================\n",
      "📊 ACCURACY SUMMARY\n",
      "==================================================\n",
      "Total samples processed successfully: 2\n"
     ]
    }
   ],
   "source": [
    "\n",
    "# Example: Predict specific nuclei by IDs (e.g., 16, 17) in the same volume\n",
    "!srun python predict.py --model_path /mnt/home/dchhantyal/3d-cnn-classification/model/ncnn4/training_outputs/no-aug/best_model.pth --volumes /mnt/home/dchhantyal/3d-cnn-classification/raw-data/230212_stack6/registered_images/nuclei_reg8_29.tif /mnt/home/dchhantyal/3d-cnn-classification/raw-data/230212_stack6/registered_images/nuclei_reg8_30.tif /mnt/home/dchhantyal/3d-cnn-classification/raw-data/230212_stack6/registered_images/nuclei_reg8_31.tif /mnt/home/dchhantyal/3d-cnn-classification/raw-data/230212_stack6/registered_label_images/label_reg8_30.tif --full_timestamp --nuclei_ids \"16,17\""
   ]
  },
  {
   "cell_type": "code",
   "execution_count": 2,
   "id": "ec928275",
   "metadata": {},
   "outputs": [
    {
     "name": "stdout",
     "output_type": "stream",
     "text": [
      "Prediction results: [{'sample': 'sample_20250729_183830', 'true_class': None, 'predicted_class': 'stable', 'index': 2, 'confidence': 0.8392189741134644, 'correct': None, 'processing_time': 5.348551}, {'sample': 'sample_20250729_183835', 'true_class': None, 'predicted_class': 'stable', 'index': 2, 'confidence': 0.8334499001502991, 'correct': None, 'processing_time': 5.298464}]\n"
     ]
    }
   ],
   "source": [
    "# Example: Programmatic inference using predict.py functions\n",
    "from predict import (\n",
    "    load_model,\n",
    "    handle_full_timestamp_prediction,\n",
    ")\n",
    "import argparse\n",
    "\n",
    "# Set up model path and volume paths\n",
    "model_path = '/mnt/home/dchhantyal/3d-cnn-classification/model/ncnn4/training_outputs/no-aug/best_model.pth'\n",
    "volume_paths = [\n",
    "    '/mnt/home/dchhantyal/3d-cnn-classification/raw-data/230212_stack6/registered_images/nuclei_reg8_29.tif',\n",
    "    '/mnt/home/dchhantyal/3d-cnn-classification/raw-data/230212_stack6/registered_images/nuclei_reg8_30.tif',\n",
    "    '/mnt/home/dchhantyal/3d-cnn-classification/raw-data/230212_stack6/registered_images/nuclei_reg8_31.tif',\n",
    "    '/mnt/home/dchhantyal/3d-cnn-classification/raw-data/230212_stack6/registered_label_images/label_reg8_30.tif',\n",
    "]\n",
    "\n",
    "# Load the trained model\n",
    "model = load_model(model_path, verbose=False)\n",
    "model.eval()\n",
    "\n",
    "\n",
    "# Example: Predict specific nuclei by IDs\n",
    "nuclei_ids = [16, 17]  \n",
    "\n",
    "# To run full prediction and get results, you would need to construct an argparse.Namespace or refactor the script for direct function calls.\n",
    "\n",
    "results = handle_full_timestamp_prediction(\n",
    "    model=model,\n",
    "    args=argparse.Namespace(\n",
    "        model_path=model_path,\n",
    "        volumes=volume_paths,\n",
    "        full_timestamp=True,\n",
    "        nuclei_ids=nuclei_ids,\n",
    "    ),\n",
    ")\n",
    "print(\"Prediction results:\", results)"
   ]
  },
  {
   "cell_type": "code",
   "execution_count": 5,
   "id": "4572ad11",
   "metadata": {},
   "outputs": [
    {
     "name": "stdout",
     "output_type": "stream",
     "text": [
      "Volume: sample_20250729_183830, Predictions: stable\n",
      "Volume: sample_20250729_183835, Predictions: stable\n"
     ]
    }
   ],
   "source": [
    "for result in results:\n",
    "    print(f\"Volume: {result['sample']}, Predictions: {result['predicted_class']}\")\n",
    "    if 'nuclei_ids' in result:\n",
    "        print(f\"Nuclei IDs: {result['nuclei_ids']}\")\n",
    "    if 'mask' in result:\n",
    "        print(f\"Mask shape: {result['mask'].shape}\")"
   ]
  },
  {
   "cell_type": "code",
   "execution_count": 1,
   "id": "5ad8e9b0",
   "metadata": {},
   "outputs": [
    {
     "name": "stdout",
     "output_type": "stream",
     "text": [
      "\n",
      "==================================================\n",
      "🎉 BATCH PROCESSING COMPLETE\n",
      "==================================================\n",
      " 1. sample_20250730_111342              | True: UNKNOWN      → Pred: STABLE       (83.9%) ❓\n",
      " 2. sample_20250730_111342              | True: UNKNOWN      → Pred: STABLE       (83.3%) ❓\n",
      "\n",
      "==================================================\n",
      "📊 ACCURACY SUMMARY\n",
      "==================================================\n",
      "Total samples processed successfully: 2\n"
     ]
    }
   ],
   "source": [
    "\n",
    "# Example: Predict specific nuclei by IDs (e.g., 16, 17) in the same volume\n",
    "!srun python predict.py --model_path /mnt/home/dchhantyal/3d-cnn-classification/model/ncnn4/training_outputs/no-aug/best_model.pth --volumes /mnt/home/dchhantyal/3d-cnn-classification/raw-data/230212_stack6/registered_images/nuclei_reg8_29.tif /mnt/home/dchhantyal/3d-cnn-classification/raw-data/230212_stack6/registered_images/nuclei_reg8_30.tif /mnt/home/dchhantyal/3d-cnn-classification/raw-data/230212_stack6/registered_images/nuclei_reg8_31.tif /mnt/home/dchhantyal/3d-cnn-classification/raw-data/230212_stack6/registered_label_images/label_reg8_30.tif --full_timestamp --nuclei_ids \"16,17\""
   ]
  },
  {
   "cell_type": "code",
   "execution_count": 2,
   "id": "a280681e",
   "metadata": {},
   "outputs": [
    {
     "name": "stdout",
     "output_type": "stream",
     "text": [
      "\n",
      "==================================================\n",
      "🎉 BATCH PROCESSING COMPLETE\n",
      "==================================================\n",
      " 1. sample_20250730_111700              | True: UNKNOWN      → Pred: STABLE       (100.0%) ❓\n",
      " 2. sample_20250730_111700              | True: UNKNOWN      → Pred: STABLE       (99.9%) ❓\n",
      " 3. sample_20250730_111700              | True: UNKNOWN      → Pred: STABLE       (87.7%) ❓\n",
      " 4. sample_20250730_111700              | True: UNKNOWN      → Pred: STABLE       (95.8%) ❓\n",
      " 5. sample_20250730_111700              | True: UNKNOWN      → Pred: STABLE       (81.4%) ❓\n",
      " 6. sample_20250730_111700              | True: UNKNOWN      → Pred: STABLE       (93.7%) ❓\n",
      " 7. sample_20250730_111700              | True: UNKNOWN      → Pred: STABLE       (89.9%) ❓\n",
      " 8. sample_20250730_111700              | True: UNKNOWN      → Pred: STABLE       (72.5%) ❓\n",
      " 9. sample_20250730_111700              | True: UNKNOWN      → Pred: STABLE       (92.0%) ❓\n",
      "10. sample_20250730_111700              | True: UNKNOWN      → Pred: STABLE       (80.3%) ❓\n",
      "11. sample_20250730_111700              | True: UNKNOWN      → Pred: STABLE       (82.8%) ❓\n",
      "12. sample_20250730_111700              | True: UNKNOWN      → Pred: STABLE       (50.8%) ❓\n",
      "13. sample_20250730_111700              | True: UNKNOWN      → Pred: STABLE       (85.5%) ❓\n",
      "14. sample_20250730_111700              | True: UNKNOWN      → Pred: STABLE       (92.6%) ❓\n",
      "15. sample_20250730_111700              | True: UNKNOWN      → Pred: STABLE       (95.7%) ❓\n",
      "16. sample_20250730_111700              | True: UNKNOWN      → Pred: STABLE       (77.2%) ❓\n",
      "17. sample_20250730_111700              | True: UNKNOWN      → Pred: STABLE       (83.9%) ❓\n",
      "18. sample_20250730_111700              | True: UNKNOWN      → Pred: STABLE       (83.3%) ❓\n",
      "\n",
      "==================================================\n",
      "📊 ACCURACY SUMMARY\n",
      "==================================================\n",
      "Total samples processed successfully: 18\n"
     ]
    }
   ],
   "source": [
    "!srun python predict.py --model_path /mnt/home/dchhantyal/3d-cnn-classification/model/ncnn4/training_outputs/no-aug/best_model.pth --volumes /mnt/home/dchhantyal/3d-cnn-classification/raw-data/230212_stack6/registered_images/nuclei_reg8_29.tif /mnt/home/dchhantyal/3d-cnn-classification/raw-data/230212_stack6/registered_images/nuclei_reg8_30.tif /mnt/home/dchhantyal/3d-cnn-classification/raw-data/230212_stack6/registered_images/nuclei_reg8_31.tif /mnt/home/dchhantyal/3d-cnn-classification/raw-data/230212_stack6/registered_label_images/label_reg8_30.tif --full_timestamp"
   ]
  },
  {
   "cell_type": "code",
   "execution_count": null,
   "id": "6d1c8d6c",
   "metadata": {},
   "outputs": [],
   "source": []
  }
 ],
 "metadata": {
  "kernelspec": {
   "display_name": "jupyter-gpu (3.10.13)",
   "language": "python",
   "name": "python3"
  },
  "language_info": {
   "codemirror_mode": {
    "name": "ipython",
    "version": 3
   },
   "file_extension": ".py",
   "mimetype": "text/x-python",
   "name": "python",
   "nbconvert_exporter": "python",
   "pygments_lexer": "ipython3",
   "version": "3.10.13"
  }
 },
 "nbformat": 4,
 "nbformat_minor": 5
}
